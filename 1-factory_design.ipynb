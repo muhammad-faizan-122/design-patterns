{
 "cells": [
  {
   "cell_type": "markdown",
   "metadata": {},
   "source": [
    "The Factory pattern is a creational design pattern that provides an interface for creating objects in a superclass but allows subclasses to alter the type of objects that will be created. The main idea is to delegate the responsibility of object creation to a factory class."
   ]
  },
  {
   "cell_type": "code",
   "execution_count": null,
   "metadata": {},
   "outputs": [],
   "source": [
    "from abc import ABC, abstractmethod\n",
    "\n",
    "# Step 1: Define an abstract product\n",
    "class Shape(ABC):\n",
    "    @abstractmethod\n",
    "    def draw(self):\n",
    "        pass\n",
    "\n",
    "\n",
    "# Step 2: Create concrete products\n",
    "class Circle(Shape):\n",
    "    def draw(self):\n",
    "        print(\"Drawing a Circle\")\n",
    "\n",
    "\n",
    "class Square(Shape):\n",
    "    def draw(self):\n",
    "        print(\"Drawing a Square\")\n",
    "\n",
    "\n",
    "# Step 3: Create the factory class\n",
    "class ShapeFactory:\n",
    "    def create_shape(self, shape_type):\n",
    "        if shape_type == \"Circle\":\n",
    "            return Circle()\n",
    "        elif shape_type == \"Square\":\n",
    "            return Square()\n",
    "        else:\n",
    "            return None\n",
    "\n",
    "\n",
    "# Client code\n",
    "factory = ShapeFactory()\n",
    "shape1 = factory.create_shape(\"Circle\")\n",
    "shape1.draw()  # Output: Drawing a Circle\n",
    "\n",
    "shape2 = factory.create_shape(\"Square\")\n",
    "shape2.draw()  # Output: Drawing a Square\n",
    "\n"
   ]
  },
  {
   "cell_type": "markdown",
   "metadata": {},
   "source": [
    "Explanation:\n",
    "\n",
    "    The ShapeFactory class is responsible for creating instances of different shapes (Circle, Square).\n",
    "    The client code asks the factory to create an object of a specific type without knowing the exact class name.\n",
    "    This promotes loose coupling and flexibility in the code."
   ]
  },
  {
   "cell_type": "code",
   "execution_count": null,
   "metadata": {},
   "outputs": [],
   "source": []
  }
 ],
 "metadata": {
  "language_info": {
   "name": "python"
  }
 },
 "nbformat": 4,
 "nbformat_minor": 2
}
