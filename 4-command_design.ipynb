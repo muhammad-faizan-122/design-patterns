{
 "cells": [
  {
   "cell_type": "markdown",
   "metadata": {},
   "source": [
    "The Command pattern is a behavioral design pattern that turns a request into a stand-alone object that contains all information about the request. This object can then be used to parameterize objects, delay execution, queue requests, or support undoable operations."
   ]
  },
  {
   "cell_type": "code",
   "execution_count": 1,
   "metadata": {},
   "outputs": [
    {
     "name": "stdout",
     "output_type": "stream",
     "text": [
      "The light is on\n",
      "The light is off\n"
     ]
    }
   ],
   "source": [
    "from abc import ABC, abstractmethod\n",
    "\n",
    "\n",
    "# Command Interface\n",
    "class Command(ABC):\n",
    "    @abstractmethod\n",
    "    def execute(self):\n",
    "        pass\n",
    "\n",
    "\n",
    "# Concrete Command classes\n",
    "class LightOnCommand(Command):\n",
    "    def __init__(self, light):\n",
    "        self.light = light\n",
    "\n",
    "    def execute(self):\n",
    "        self.light.turn_on()\n",
    "\n",
    "\n",
    "class LightOffCommand(Command):\n",
    "    def __init__(self, light):\n",
    "        self.light = light\n",
    "\n",
    "    def execute(self):\n",
    "        self.light.turn_off()\n",
    "\n",
    "\n",
    "# Receiver class\n",
    "class Light:\n",
    "    def turn_on(self):\n",
    "        print(\"The light is on\")\n",
    "\n",
    "    def turn_off(self):\n",
    "        print(\"The light is off\")\n",
    "\n",
    "\n",
    "# Invoker class\n",
    "class RemoteControl:\n",
    "    def __init__(self):\n",
    "        self.commands = []\n",
    "\n",
    "    def add_command(self, command):\n",
    "        self.commands.append(command)\n",
    "\n",
    "    def execute_commands(self):\n",
    "        for command in self.commands:\n",
    "            command.execute()\n",
    "\n",
    "\n",
    "# Client code\n",
    "light = Light()\n",
    "light_on = LightOnCommand(light)\n",
    "light_off = LightOffCommand(light)\n",
    "\n",
    "remote = RemoteControl()\n",
    "remote.add_command(light_on)\n",
    "remote.add_command(light_off)\n",
    "remote.execute_commands()\n"
   ]
  },
  {
   "cell_type": "code",
   "execution_count": null,
   "metadata": {},
   "outputs": [],
   "source": []
  }
 ],
 "metadata": {
  "kernelspec": {
   "display_name": "test-env",
   "language": "python",
   "name": "python3"
  },
  "language_info": {
   "codemirror_mode": {
    "name": "ipython",
    "version": 3
   },
   "file_extension": ".py",
   "mimetype": "text/x-python",
   "name": "python",
   "nbconvert_exporter": "python",
   "pygments_lexer": "ipython3",
   "version": "3.10.14"
  }
 },
 "nbformat": 4,
 "nbformat_minor": 2
}
