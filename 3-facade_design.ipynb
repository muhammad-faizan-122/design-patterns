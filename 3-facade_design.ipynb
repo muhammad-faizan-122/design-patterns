{
 "cells": [
  {
   "cell_type": "markdown",
   "metadata": {},
   "source": [
    "The Facade pattern provides a simplified interface to a complex subsystem. It's used to reduce the complexity of interacting with a system by providing a single interface to the user."
   ]
  },
  {
   "cell_type": "code",
   "execution_count": null,
   "metadata": {},
   "outputs": [],
   "source": [
    "class CPU:\n",
    "    def freeze(self):\n",
    "        print(\"CPU freezing...\")\n",
    "\n",
    "    def jump(self, position):\n",
    "        print(f\"CPU jumping to {position}\")\n",
    "\n",
    "    def execute(self):\n",
    "        print(\"CPU executing...\")\n",
    "\n",
    "class Memory:\n",
    "    def load(self, position, data):\n",
    "        print(f\"Memory loading data at {position}\")\n",
    "\n",
    "class HardDrive:\n",
    "    def read(self, lba, size):\n",
    "        print(f\"HardDrive reading {size} bytes from LBA {lba}\")\n",
    "        return \"data\"\n",
    "\n",
    "# Facade class\n",
    "class ComputerFacade:\n",
    "    def __init__(self):\n",
    "        self.cpu = CPU()\n",
    "        self.memory = Memory()\n",
    "        self.hard_drive = HardDrive()\n",
    "\n",
    "    def start(self):\n",
    "        self.cpu.freeze()\n",
    "        self.memory.load(0x00, self.hard_drive.read(0x100, 4096))\n",
    "        self.cpu.jump(0x00)\n",
    "        self.cpu.execute()\n",
    "\n",
    "# Client code\n",
    "computer = ComputerFacade()\n",
    "computer.start()\n"
   ]
  }
 ],
 "metadata": {
  "language_info": {
   "name": "python"
  }
 },
 "nbformat": 4,
 "nbformat_minor": 2
}
