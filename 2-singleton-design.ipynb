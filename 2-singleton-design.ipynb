{
 "cells": [
  {
   "cell_type": "code",
   "execution_count": 1,
   "metadata": {},
   "outputs": [
    {
     "name": "stdout",
     "output_type": "stream",
     "text": [
      "cls: <class '__main__.Singleton'>\n",
      "cls._instances: {}\n",
      "instance: <__main__.Singleton object at 0x7e4f28ee2560>\n",
      "cls._instances: {<class '__main__.Singleton'>: <__main__.Singleton object at 0x7e4f28ee2560>}\n",
      "First Instance\n",
      "First Instance\n",
      "True\n"
     ]
    }
   ],
   "source": [
    "class SingletonMeta(type):\n",
    "    _instances = {}\n",
    "\n",
    "    def __call__(cls, *args, **kwargs):\n",
    "        if cls not in cls._instances:\n",
    "            print(f\"cls: {cls}\")\n",
    "            print(f\"cls._instances: {cls._instances}\")\n",
    "            instance = super().__call__(*args, **kwargs)\n",
    "            print(f\"instance: {instance}\")\n",
    "            cls._instances[cls] = instance\n",
    "            print(f\"cls._instances: {cls._instances}\")\n",
    "\n",
    "        return cls._instances[cls]\n",
    "\n",
    "class Singleton(metaclass=SingletonMeta):\n",
    "    def __init__(self, value):\n",
    "        self.value = value\n",
    "\n",
    "# Client code\n",
    "singleton1 = Singleton(\"First Instance\")\n",
    "print(singleton1.value)  # Output: First Instance\n",
    "\n",
    "singleton2 = Singleton(\"Second Instance\")\n",
    "print(singleton2.value)  # Output: First Instance\n",
    "\n",
    "print(singleton1 is singleton2)  # Output: True\n"
   ]
  },
  {
   "cell_type": "code",
   "execution_count": null,
   "metadata": {},
   "outputs": [],
   "source": []
  }
 ],
 "metadata": {
  "kernelspec": {
   "display_name": "base",
   "language": "python",
   "name": "python3"
  },
  "language_info": {
   "codemirror_mode": {
    "name": "ipython",
    "version": 3
   },
   "file_extension": ".py",
   "mimetype": "text/x-python",
   "name": "python",
   "nbconvert_exporter": "python",
   "pygments_lexer": "ipython3",
   "version": "3.10.14"
  }
 },
 "nbformat": 4,
 "nbformat_minor": 2
}
